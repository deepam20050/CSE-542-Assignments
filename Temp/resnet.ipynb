{
 "cells": [
  {
   "cell_type": "code",
   "execution_count": 35,
   "metadata": {},
   "outputs": [],
   "source": [
    "import tensorflow as tf\n",
    "from tensorflow.keras.applications.resnet50 import ResNet50\n",
    "from tensorflow.keras.preprocessing.image import ImageDataGenerator\n",
    "from tensorflow.keras.layers import Dense, GlobalAveragePooling2D\n",
    "from tensorflow.keras.models import Model\n",
    "import pandas as pd\n",
    "import cv2\n",
    "import os\n",
    "import numpy as np"
   ]
  },
  {
   "cell_type": "code",
   "execution_count": 36,
   "metadata": {},
   "outputs": [],
   "source": [
    "IMAGE_WIDTH = 64\n",
    "IMAGE_HEIGHT = 64\n",
    "BATCH_SIZE = 32\n",
    "NUM_EPOCHS = 10\n",
    "NUM_CLASSES = 25"
   ]
  },
  {
   "cell_type": "code",
   "execution_count": 37,
   "metadata": {},
   "outputs": [],
   "source": [
    "base_model = ResNet50(weights='imagenet', include_top=False, input_shape=(IMAGE_HEIGHT, IMAGE_WIDTH, 3))"
   ]
  },
  {
   "cell_type": "code",
   "execution_count": 38,
   "metadata": {},
   "outputs": [],
   "source": [
    "x = base_model.output\n",
    "x = GlobalAveragePooling2D()(x)\n",
    "x = Dense(1024, activation='relu')(x)\n",
    "predictions = Dense(NUM_CLASSES, activation='softmax')(x)"
   ]
  },
  {
   "cell_type": "code",
   "execution_count": 39,
   "metadata": {},
   "outputs": [],
   "source": [
    "model = Model(inputs=base_model.input, outputs=predictions)"
   ]
  },
  {
   "cell_type": "code",
   "execution_count": 40,
   "metadata": {},
   "outputs": [],
   "source": [
    "for layer in base_model.layers:\n",
    "    layer.trainable = True"
   ]
  },
  {
   "cell_type": "code",
   "execution_count": 48,
   "metadata": {},
   "outputs": [],
   "source": [
    "model.compile(optimizer='adam', loss='categorical_crossentropy', metrics=['accuracy'])"
   ]
  },
  {
   "cell_type": "code",
   "execution_count": 50,
   "metadata": {},
   "outputs": [
    {
     "name": "stdout",
     "output_type": "stream",
     "text": [
      "Found 16000 images belonging to 25 classes.\n"
     ]
    }
   ],
   "source": [
    "train_datagen = ImageDataGenerator(rescale=1./255)\n",
    "\n",
    "train_generator = train_datagen.flow_from_directory(\n",
    "        directory='SML_Train',\n",
    "        target_size=(IMAGE_HEIGHT, IMAGE_WIDTH),\n",
    "        batch_size=BATCH_SIZE,\n",
    "        class_mode='categorical')"
   ]
  },
  {
   "cell_type": "code",
   "execution_count": 42,
   "metadata": {},
   "outputs": [
    {
     "name": "stdout",
     "output_type": "stream",
     "text": [
      "Found 12812 images belonging to 25 classes.\n"
     ]
    }
   ],
   "source": [
    "# Create the data generators for the training and testing images\n",
    "train_datagen = tf.keras.preprocessing.image.ImageDataGenerator(\n",
    "    rescale=1./255,\n",
    "    shear_range=0.2,\n",
    "    zoom_range=0.2,\n",
    "    horizontal_flip=True,\n",
    "    validation_split=0.2)\n",
    "\n",
    "train_generator = train_datagen.flow_from_directory(\n",
    "    'SML_Train',\n",
    "    target_size=(64, 64),\n",
    "    batch_size=32,\n",
    "    class_mode='categorical',\n",
    "    subset='training')"
   ]
  },
  {
   "cell_type": "code",
   "execution_count": 43,
   "metadata": {},
   "outputs": [
    {
     "name": "stdout",
     "output_type": "stream",
     "text": [
      "Found 3188 images belonging to 25 classes.\n"
     ]
    }
   ],
   "source": [
    "validation_generator = train_datagen.flow_from_directory(\n",
    "    'SML_Train',\n",
    "    target_size=(64, 64),\n",
    "    batch_size=32,\n",
    "    class_mode='categorical',\n",
    "    subset='validation')"
   ]
  },
  {
   "cell_type": "code",
   "execution_count": 49,
   "metadata": {},
   "outputs": [
    {
     "name": "stdout",
     "output_type": "stream",
     "text": [
      "Epoch 1/10\n"
     ]
    },
    {
     "name": "stderr",
     "output_type": "stream",
     "text": [
      "2023-04-26 01:11:32.106255: I tensorflow/core/common_runtime/executor.cc:1197] [/device:CPU:0] (DEBUG INFO) Executor start aborting (this does not indicate an error and you can ignore this message): INVALID_ARGUMENT: You must feed a value for placeholder tensor 'Placeholder/_0' with dtype int32\n",
      "\t [[{{node Placeholder/_0}}]]\n"
     ]
    },
    {
     "name": "stdout",
     "output_type": "stream",
     "text": [
      "401/401 [==============================] - ETA: 0s - loss: 0.2944 - accuracy: 0.9166"
     ]
    },
    {
     "name": "stderr",
     "output_type": "stream",
     "text": [
      "2023-04-26 01:12:06.859243: I tensorflow/core/common_runtime/executor.cc:1197] [/device:CPU:0] (DEBUG INFO) Executor start aborting (this does not indicate an error and you can ignore this message): INVALID_ARGUMENT: You must feed a value for placeholder tensor 'Placeholder/_0' with dtype int32\n",
      "\t [[{{node Placeholder/_0}}]]\n"
     ]
    },
    {
     "name": "stdout",
     "output_type": "stream",
     "text": [
      "401/401 [==============================] - 37s 44ms/step - loss: 0.2944 - accuracy: 0.9166 - val_loss: 3.8195 - val_accuracy: 0.4991\n",
      "Epoch 2/10\n",
      "401/401 [==============================] - 17s 43ms/step - loss: 0.3132 - accuracy: 0.9109 - val_loss: 10.9969 - val_accuracy: 0.5116\n",
      "Epoch 3/10\n",
      "401/401 [==============================] - 17s 43ms/step - loss: 0.2156 - accuracy: 0.9371 - val_loss: 4.0981 - val_accuracy: 0.5047\n",
      "Epoch 4/10\n",
      "401/401 [==============================] - 17s 43ms/step - loss: 0.2533 - accuracy: 0.9271 - val_loss: 4.2732 - val_accuracy: 0.4172\n",
      "Epoch 5/10\n",
      "401/401 [==============================] - 17s 43ms/step - loss: 0.1864 - accuracy: 0.9422 - val_loss: 2.7586 - val_accuracy: 0.5339\n",
      "Epoch 6/10\n",
      "401/401 [==============================] - 17s 43ms/step - loss: 0.1746 - accuracy: 0.9482 - val_loss: 4.1799 - val_accuracy: 0.4150\n",
      "Epoch 7/10\n",
      "401/401 [==============================] - 17s 43ms/step - loss: 0.2142 - accuracy: 0.9326 - val_loss: 3.4692 - val_accuracy: 0.5016\n",
      "Epoch 8/10\n",
      "401/401 [==============================] - 17s 44ms/step - loss: 0.2945 - accuracy: 0.9117 - val_loss: 7.8033 - val_accuracy: 0.3971\n",
      "Epoch 9/10\n",
      "401/401 [==============================] - 17s 43ms/step - loss: 0.2089 - accuracy: 0.9350 - val_loss: 3.5214 - val_accuracy: 0.4928\n",
      "Epoch 10/10\n",
      "401/401 [==============================] - 17s 43ms/step - loss: 0.1737 - accuracy: 0.9472 - val_loss: 3.9387 - val_accuracy: 0.4806\n"
     ]
    },
    {
     "data": {
      "text/plain": [
       "<keras.callbacks.History at 0x7f132f37e500>"
      ]
     },
     "execution_count": 49,
     "metadata": {},
     "output_type": "execute_result"
    }
   ],
   "source": [
    "# Train the model\n",
    "model.fit(train_generator,\n",
    "          epochs=10,\n",
    "          validation_data=validation_generator)"
   ]
  },
  {
   "cell_type": "code",
   "execution_count": 51,
   "metadata": {},
   "outputs": [
    {
     "name": "stdout",
     "output_type": "stream",
     "text": [
      "Epoch 1/10\n",
      "  3/500 [..............................] - ETA: 19s - loss: 0.9363 - accuracy: 0.8021"
     ]
    },
    {
     "name": "stderr",
     "output_type": "stream",
     "text": [
      "2023-04-26 01:15:04.664920: I tensorflow/core/common_runtime/executor.cc:1197] [/device:CPU:0] (DEBUG INFO) Executor start aborting (this does not indicate an error and you can ignore this message): INVALID_ARGUMENT: You must feed a value for placeholder tensor 'Placeholder/_0' with dtype int32\n",
      "\t [[{{node Placeholder/_0}}]]\n"
     ]
    },
    {
     "name": "stdout",
     "output_type": "stream",
     "text": [
      "500/500 [==============================] - 19s 37ms/step - loss: 0.4613 - accuracy: 0.8918\n",
      "Epoch 2/10\n",
      "500/500 [==============================] - 19s 37ms/step - loss: 0.1781 - accuracy: 0.9516\n",
      "Epoch 3/10\n",
      "500/500 [==============================] - 19s 37ms/step - loss: 0.1477 - accuracy: 0.9557\n",
      "Epoch 4/10\n",
      "500/500 [==============================] - 19s 37ms/step - loss: 0.1702 - accuracy: 0.9483\n",
      "Epoch 5/10\n",
      "500/500 [==============================] - 19s 38ms/step - loss: 0.1453 - accuracy: 0.9529\n",
      "Epoch 6/10\n",
      "500/500 [==============================] - 19s 38ms/step - loss: 0.1050 - accuracy: 0.9668\n",
      "Epoch 7/10\n",
      "500/500 [==============================] - 19s 38ms/step - loss: 0.1054 - accuracy: 0.9678\n",
      "Epoch 8/10\n",
      "500/500 [==============================] - 19s 38ms/step - loss: 0.1189 - accuracy: 0.9663\n",
      "Epoch 9/10\n",
      "500/500 [==============================] - 19s 38ms/step - loss: 0.0870 - accuracy: 0.9729\n",
      "Epoch 10/10\n",
      "500/500 [==============================] - 19s 38ms/step - loss: 0.0771 - accuracy: 0.9754\n"
     ]
    },
    {
     "data": {
      "text/plain": [
       "<keras.callbacks.History at 0x7f13247e2530>"
      ]
     },
     "execution_count": 51,
     "metadata": {},
     "output_type": "execute_result"
    }
   ],
   "source": [
    "model.fit(train_generator,\n",
    "          epochs=10)"
   ]
  },
  {
   "cell_type": "code",
   "execution_count": 52,
   "metadata": {},
   "outputs": [
    {
     "name": "stdout",
     "output_type": "stream",
     "text": [
      "47/47 [==============================] - 1s 9ms/step\n"
     ]
    }
   ],
   "source": [
    "# Create the testing data\n",
    "test_files = os.listdir('SML_Test')\n",
    "X_test = []\n",
    "for file in test_files:\n",
    "    img_path = os.path.join('SML_Test', file)\n",
    "    img = cv2.imread(img_path)\n",
    "    X_test.append(img)\n",
    "\n",
    "# Convert the testing data to numpy arrays\n",
    "X_test = np.array(X_test)\n",
    "\n",
    "# Make predictions on the testing data\n",
    "y_pred = model.predict(X_test)\n",
    "\n",
    "# Save the predictions to a CSV file\n",
    "test_df = pd.DataFrame({'id': test_files, 'category': np.argmax(y_pred, axis=1)})\n",
    "test_df.to_csv('deepam-3.csv', index=False)"
   ]
  }
 ],
 "metadata": {
  "kernelspec": {
   "display_name": "Python 3",
   "language": "python",
   "name": "python3"
  },
  "language_info": {
   "codemirror_mode": {
    "name": "ipython",
    "version": 3
   },
   "file_extension": ".py",
   "mimetype": "text/x-python",
   "name": "python",
   "nbconvert_exporter": "python",
   "pygments_lexer": "ipython3",
   "version": "3.10.10"
  },
  "orig_nbformat": 4
 },
 "nbformat": 4,
 "nbformat_minor": 2
}
