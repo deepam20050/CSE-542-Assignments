{
  "cells": [
    {
      "cell_type": "code",
      "execution_count": null,
      "metadata": {
        "colab": {
          "base_uri": "https://localhost:8080/"
        },
        "id": "5dUFllim06w-",
        "outputId": "9143a2bd-f87c-4064-9f8e-a3301fc4590a"
      },
      "outputs": [],
      "source": [
        "from google.colab import drive\n",
        "drive.mount('/content/drive/')"
      ]
    },
    {
      "cell_type": "code",
      "execution_count": null,
      "metadata": {
        "colab": {
          "base_uri": "https://localhost:8080/"
        },
        "id": "nUC5eL7k1JAb",
        "outputId": "a53eccd8-75d4-4db5-a474-794404e30960"
      },
      "outputs": [],
      "source": [
        "cd \"/content/drive/MyDrive/SEM 6 - COURSES/CSE542 - SML/Kaggle Challenge 2/\""
      ]
    },
    {
      "cell_type": "code",
      "execution_count": null,
      "metadata": {
        "id": "CMZbbQUo896S"
      },
      "outputs": [],
      "source": [
        "!unzip 'SML_T.zip'"
      ]
    },
    {
      "cell_type": "code",
      "execution_count": 6,
      "metadata": {
        "id": "n-gNVFKk5kwi"
      },
      "outputs": [],
      "source": [
        "import numpy as np\n",
        "import pandas as pd\n",
        "import os\n",
        "%matplotlib inline\n",
        "import tensorflow as tf\n",
        "import tensorflow.keras\n",
        "from tensorflow.keras.layers import Dense, MaxPool2D, Conv2D, Dropout, Flatten, GlobalAveragePooling2D, BatchNormalization, Activation, MaxPooling2D\n",
        "from tensorflow.keras.models import Sequential\n",
        "from tensorflow.keras.preprocessing.image import ImageDataGenerator\n",
        "from tensorflow.keras.utils import to_categorical\n",
        "from sklearn.model_selection import train_test_split\n",
        "import matplotlib.pyplot as plt\n",
        "import glob\n",
        "import cv2\n",
        "import re\n",
        "import pathlib\n",
        "import zipfile"
      ]
    },
    {
      "cell_type": "code",
      "execution_count": 7,
      "metadata": {
        "id": "GYlGqB4d68Ry"
      },
      "outputs": [
        {
          "name": "stdout",
          "output_type": "stream",
          "text": [
            "[20 19 23  9  6 17 10  1  2 24  4 15 11 16  3 12  0 13 18  8 21 22  7 14\n",
            "  5]\n"
          ]
        }
      ],
      "source": [
        "train_labels = pd.read_csv(\"SML_Train.csv\", header=\"infer\")\n",
        "\n",
        "classes = train_labels['category'].unique()\n",
        "print(classes)"
      ]
    },
    {
      "cell_type": "code",
      "execution_count": 8,
      "metadata": {
        "id": "teYkzM5s949F"
      },
      "outputs": [],
      "source": [
        "parent_path_train = \"SML_Train\"\n",
        "parent_path_test = \"SML_Test\""
      ]
    },
    {
      "cell_type": "code",
      "execution_count": 9,
      "metadata": {
        "id": "67WbryFV-CEi"
      },
      "outputs": [
        {
          "name": "stdout",
          "output_type": "stream",
          "text": [
            "Found 16000 images belonging to 25 classes.\n"
          ]
        }
      ],
      "source": [
        "train_datagen = ImageDataGenerator()\n",
        "\n",
        "train_generator = train_datagen.flow_from_directory(directory=parent_path_train, shuffle=True, target_size=(32,32),batch_size=128)"
      ]
    },
    {
      "cell_type": "code",
      "execution_count": 10,
      "metadata": {
        "id": "4tfIH0bR-Tct"
      },
      "outputs": [
        {
          "data": {
            "text/plain": [
              "keras.preprocessing.image.DirectoryIterator"
            ]
          },
          "execution_count": 10,
          "metadata": {},
          "output_type": "execute_result"
        }
      ],
      "source": [
        "type(train_generator)"
      ]
    },
    {
      "cell_type": "code",
      "execution_count": 26,
      "metadata": {
        "colab": {
          "base_uri": "https://localhost:8080/"
        },
        "id": "2PDz8AId-ip3",
        "outputId": "13d2bea6-0118-4d17-cf2d-8b4825ad0c6d"
      },
      "outputs": [
        {
          "name": "stdout",
          "output_type": "stream",
          "text": [
            "Code Segment Running: 1Done\n"
          ]
        }
      ],
      "source": [
        "#Defining the model architecture\n",
        "def define_model():\n",
        "    model = Sequential()\n",
        "    \n",
        "    model.add(Conv2D(filters=64, kernel_size=(3, 3), activation='relu',strides=(1,1), padding='same',use_bias=False, input_shape=(64, 64, 3)))\n",
        "    model.add(BatchNormalization())\n",
        "    model.add(Conv2D(filters=92, kernel_size=(3, 3), activation='relu',strides=(1,1), padding='same',use_bias=False))\n",
        "    model.add(BatchNormalization())\n",
        "    model.add(MaxPooling2D((2, 2),padding='same'))\n",
        "    \n",
        "    model.add(Conv2D(filters=128, kernel_size=(3, 3), activation='relu',strides=(1,1),  padding='same',use_bias=False))\n",
        "    model.add(BatchNormalization())\n",
        "    model.add(Conv2D(filters=128, kernel_size=(3, 3),strides=(1,1),activation='relu',  padding='same',use_bias=False))\n",
        "    model.add(BatchNormalization())\n",
        "    model.add(Conv2D(filters=128, kernel_size=(3, 3),strides=(1,1),activation='relu',  padding='same',use_bias=False))\n",
        "    model.add(BatchNormalization())\n",
        "    model.add(MaxPooling2D((2, 2),padding='same'))\n",
        "    \n",
        "    model.add(Conv2D(filters=256, kernel_size=(3, 3),strides=(1,1),activation='relu',  padding='same',use_bias=False))\n",
        "    model.add(BatchNormalization())\n",
        "    model.add(Conv2D(filters=256, kernel_size=(3, 3),strides=(1,1),activation='relu',  padding='same',use_bias=False))\n",
        "    model.add(BatchNormalization())\n",
        "    model.add(Conv2D(filters=256, kernel_size=(3, 3),strides=(1,1),activation='relu',  padding='same',use_bias=False))\n",
        "    model.add(BatchNormalization())\n",
        "    model.add(MaxPooling2D(pool_size=(2, 2),padding='same'))\n",
        "    \n",
        "    model.add(Conv2D(filters=512, kernel_size=(3, 3),strides=(1,1),activation='relu',  padding='same',use_bias=False))\n",
        "    model.add(BatchNormalization())\n",
        "    model.add(Conv2D(filters=512, kernel_size=(3, 3),strides=(1,1),activation='relu',  padding='same',use_bias=False))\n",
        "    model.add(BatchNormalization())\n",
        "    model.add(Conv2D(filters=512, kernel_size=(3, 3),strides=(1,1),activation='relu',  padding='same',use_bias=False))\n",
        "    model.add(BatchNormalization())\n",
        "    model.add(MaxPooling2D(pool_size=(2, 2),padding='same'))\n",
        "    \n",
        "    model.add(Flatten())\n",
        "    \n",
        "    #model.add(Dense(units=2048))\n",
        "    #model.add(Dense(units=2048))\n",
        "    model.add(Dense(units=512))\n",
        "    model.add(Dense(units=128))\n",
        "    model.add(Activation('relu'))\n",
        "    \n",
        "    model.add(Dense(units=25, activation='softmax'))\n",
        "    # compile model\n",
        "    #opt = SGD(lr=0.001, momentum=0.9,'adam')\n",
        "    model.compile(optimizer='adam', loss='categorical_crossentropy', metrics=['accuracy'])\n",
        "    return model\n",
        "\n",
        "model = define_model()\n",
        "print('Code Segment Running: 1Done')"
      ]
    },
    {
      "cell_type": "code",
      "execution_count": 29,
      "metadata": {},
      "outputs": [],
      "source": [
        "# 学習のハイパーパラメータ\n",
        "EPOCHS = 1000              # 学習回数\n",
        "hidden_nodes1 = 128        # 中間層ノード数1\n",
        "hidden_nodes2 = 256        # 中間層ノード数2\n",
        "hidden_nodes3 = 512        # 中間層ノード数3\n",
        "output_nodes  = 1024       # 全結合層ノード数\n",
        "validation_rate = 0.2      # trainデータに対するvalidationデータの割合\n",
        "IMAGE_SIZE = 64            # 入力画像サイズ\n",
        "BATCH_SIZE = 500           # 学習する画像枚数"
      ]
    },
    {
      "cell_type": "code",
      "execution_count": 30,
      "metadata": {},
      "outputs": [],
      "source": [
        "# CNNの構築\n",
        "model = Sequential()\n",
        "\n",
        "# 入力層，中間層01\n",
        "model.add(Conv2D(hidden_nodes1, (3, 3), padding='same', input_shape=(64, 64, 3)))\n",
        "model.add(Activation('relu'))\n",
        "model.add(Conv2D(hidden_nodes1, (3, 3), padding='same'))\n",
        "model.add(Activation('relu'))\n",
        "model.add(MaxPooling2D(pool_size=(2,2)))\n",
        "model.add(Dropout(0.25))\n",
        "\n",
        "# 中間層02\n",
        "model.add(Conv2D(hidden_nodes2, (3, 3), padding='same'))\n",
        "model.add(Activation('relu'))\n",
        "model.add(Conv2D(hidden_nodes2, (3, 3), padding='same'))\n",
        "model.add(Activation('relu'))\n",
        "model.add(MaxPooling2D(pool_size=(2,2)))\n",
        "model.add(Dropout(0.25))\n",
        "\n",
        "# 中間層03\n",
        "model.add(Conv2D(hidden_nodes3, (3, 3), padding='same'))\n",
        "model.add(Activation('relu'))\n",
        "model.add(Conv2D(hidden_nodes3, (3, 3), padding='same'))\n",
        "model.add(Activation('relu'))\n",
        "model.add(MaxPooling2D(pool_size=(2,2)))\n",
        "model.add(Dropout(0.25))\n",
        "\n",
        "# 全結合層\n",
        "model.add(GlobalAveragePooling2D())\n",
        "model.add(Dense(output_nodes))\n",
        "model.add(Activation('relu'))\n",
        "model.add(Dropout(0.50))\n",
        "\n",
        "# 10クラスの分類\n",
        "model.add(Dense(25))\n",
        "model.add(Activation('softmax'))"
      ]
    },
    {
      "cell_type": "code",
      "execution_count": 37,
      "metadata": {},
      "outputs": [],
      "source": [
        "# 訓練過程の設定\n",
        "model.compile(\n",
        "    loss='categorical_crossentropy', # 損失関数，ラベルがone-hot エンコーディングで表現されている場合に使用\n",
        "    optimizer='rmsprop',                # 最適化アルゴリズム\n",
        "    metrics=['accuracy']\n",
        ")"
      ]
    },
    {
      "cell_type": "code",
      "execution_count": 38,
      "metadata": {
        "colab": {
          "base_uri": "https://localhost:8080/"
        },
        "id": "87qTok1B-y-H",
        "outputId": "db42d7ab-bfc6-4f2f-8802-00164b4f0118"
      },
      "outputs": [
        {
          "name": "stdout",
          "output_type": "stream",
          "text": [
            "Epoch 1/10\n"
          ]
        },
        {
          "name": "stderr",
          "output_type": "stream",
          "text": [
            "2023-04-26 11:19:48.048162: I tensorflow/core/common_runtime/executor.cc:1197] [/device:CPU:0] (DEBUG INFO) Executor start aborting (this does not indicate an error and you can ignore this message): INVALID_ARGUMENT: You must feed a value for placeholder tensor 'Placeholder/_0' with dtype int32\n",
            "\t [[{{node Placeholder/_0}}]]\n",
            "2023-04-26 11:19:48.654323: E tensorflow/core/grappler/optimizers/meta_optimizer.cc:954] layout failed: INVALID_ARGUMENT: Size of values 0 does not match size of permutation 4 @ fanin shape insequential_2/dropout/dropout/SelectV2-2-TransposeNHWCToNCHW-LayoutOptimizer\n"
          ]
        },
        {
          "name": "stdout",
          "output_type": "stream",
          "text": [
            "125/125 [==============================] - 10s 62ms/step - loss: 1.3226 - accuracy: 0.6204\n",
            "Epoch 2/10\n",
            "125/125 [==============================] - 9s 70ms/step - loss: 1.1201 - accuracy: 0.6605\n",
            "Epoch 3/10\n",
            "125/125 [==============================] - 9s 71ms/step - loss: 1.0855 - accuracy: 0.6704\n",
            "Epoch 4/10\n",
            "125/125 [==============================] - 9s 70ms/step - loss: 1.0513 - accuracy: 0.6812\n",
            "Epoch 5/10\n",
            "125/125 [==============================] - 9s 71ms/step - loss: 1.0055 - accuracy: 0.6948\n",
            "Epoch 6/10\n",
            "125/125 [==============================] - 9s 71ms/step - loss: 0.9660 - accuracy: 0.7074\n",
            "Epoch 7/10\n",
            "125/125 [==============================] - 9s 71ms/step - loss: 0.9496 - accuracy: 0.7064\n",
            "Epoch 8/10\n",
            "125/125 [==============================] - 9s 71ms/step - loss: 0.9252 - accuracy: 0.7186\n",
            "Epoch 9/10\n",
            "125/125 [==============================] - 9s 71ms/step - loss: 0.9057 - accuracy: 0.7252\n",
            "Epoch 10/10\n",
            "125/125 [==============================] - 9s 72ms/step - loss: 0.8737 - accuracy: 0.7355\n"
          ]
        },
        {
          "data": {
            "text/plain": [
              "<keras.callbacks.History at 0x7eff6de85930>"
            ]
          },
          "execution_count": 38,
          "metadata": {},
          "output_type": "execute_result"
        }
      ],
      "source": [
        "model.fit(train_generator,epochs=10,workers=8,use_multiprocessing=True)"
      ]
    },
    {
      "cell_type": "code",
      "execution_count": 39,
      "metadata": {
        "id": "MhEd3d7V_BpX"
      },
      "outputs": [
        {
          "name": "stdout",
          "output_type": "stream",
          "text": [
            "Found 1500 images belonging to 1 classes.\n"
          ]
        }
      ],
      "source": [
        "#Perform preprocessing on test data\n",
        "test_datagen = ImageDataGenerator()\n",
        "\n",
        "test_gen = test_datagen.flow_from_directory(directory=parent_path_test,target_size=(64,64),batch_size=128,class_mode=None,shuffle=False)"
      ]
    },
    {
      "cell_type": "code",
      "execution_count": 40,
      "metadata": {
        "id": "p0whWwK9AenB"
      },
      "outputs": [
        {
          "name": "stdout",
          "output_type": "stream",
          "text": [
            " 2/12 [====>.........................] - ETA: 0s"
          ]
        },
        {
          "name": "stderr",
          "output_type": "stream",
          "text": [
            "2023-04-26 11:21:28.159101: I tensorflow/core/common_runtime/executor.cc:1197] [/device:CPU:0] (DEBUG INFO) Executor start aborting (this does not indicate an error and you can ignore this message): INVALID_ARGUMENT: You must feed a value for placeholder tensor 'Placeholder/_0' with dtype int32\n",
            "\t [[{{node Placeholder/_0}}]]\n"
          ]
        },
        {
          "name": "stdout",
          "output_type": "stream",
          "text": [
            "12/12 [==============================] - 1s 67ms/step\n"
          ]
        }
      ],
      "source": [
        "# test_gen.reset()\n",
        "predictions_vecs = model.predict(test_gen)\n",
        "\n",
        "predictions_final = np.argmax(predictions_vecs, axis=1)"
      ]
    },
    {
      "cell_type": "code",
      "execution_count": 36,
      "metadata": {
        "id": "A62pQKR2Ag2X"
      },
      "outputs": [],
      "source": [
        "test_files = os.listdir('SML_Test/0')\n",
        "# Save the predictions to a CSV file\n",
        "test_df = pd.DataFrame({'id': test_files, 'category': predictions_final})\n",
        "test_df.to_csv('now.csv', index=False)"
      ]
    }
  ],
  "metadata": {
    "accelerator": "GPU",
    "colab": {
      "provenance": []
    },
    "gpuClass": "standard",
    "kernelspec": {
      "display_name": "Python 3",
      "name": "python3"
    },
    "language_info": {
      "codemirror_mode": {
        "name": "ipython",
        "version": 3
      },
      "file_extension": ".py",
      "mimetype": "text/x-python",
      "name": "python",
      "nbconvert_exporter": "python",
      "pygments_lexer": "ipython3",
      "version": "3.10.10"
    }
  },
  "nbformat": 4,
  "nbformat_minor": 0
}
